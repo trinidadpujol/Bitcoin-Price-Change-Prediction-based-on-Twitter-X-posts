{
 "cells": [
  {
   "cell_type": "code",
   "execution_count": 6,
   "metadata": {},
   "outputs": [
    {
     "name": "stdout",
     "output_type": "stream",
     "text": [
      "                             price\n",
      "timestamp                         \n",
      "2020-01-01 00:00:00+00:00  7177.02\n",
      "2020-01-01 01:00:00+00:00  7216.27\n",
      "2020-01-01 02:00:00+00:00  7242.85\n",
      "2020-01-01 03:00:00+00:00  7225.01\n",
      "2020-01-01 04:00:00+00:00  7217.27\n"
     ]
    }
   ],
   "source": [
    "import os\n",
    "import ssl\n",
    "import certifi\n",
    "import pandas as pd\n",
    "import urllib3\n",
    "from binance.client import Client\n",
    "\n",
    "# Solution to SSL certificate verification problem\n",
    "ssl_context = ssl.create_default_context(cafile=certifi.where())\n",
    "urllib3.util.ssl_.DEFAULT_CAFILE = certifi.where()\n",
    "\n",
    "# Crear cliente de Binance\n",
    "api_key = ''\n",
    "api_secret = ''\n",
    "client = Client(api_key, api_secret)\n",
    "\n",
    "# Get 1-hour candles from 2024-01-01 to 2025-06-06\n",
    "klines = client.get_historical_klines(\"BTCUSDT\", Client.KLINE_INTERVAL_1HOUR, \"2020-01-01\", \"2025-06-06\")\n",
    "\n",
    "# Columnas que devuelve Binance\n",
    "cols = [\n",
    "    'open_time', 'open', 'high', 'low', 'close', 'volume', 'close_time',\n",
    "    'quote_asset_volume', 'number_of_trades', 'taker_buy_base_asset_volume',\n",
    "    'taker_buy_quote_asset_volume', 'ignore'\n",
    "]\n",
    "\n",
    "# Crear DataFrame\n",
    "df = pd.DataFrame(klines, columns=cols)\n",
    "\n",
    "# Convertir timestamps\n",
    "df['open_time'] = pd.to_datetime(df['open_time'], unit='ms')\n",
    "\n",
    "# Select only relevant information\n",
    "df = df[['open_time', 'close']].rename(columns={'open_time': 'timestamp', 'close': 'price'})\n",
    "df['timestamp'] = pd.to_datetime(df['timestamp'], utc=True)\n",
    "df['price'] = df['price'].astype(float)\n",
    "\n",
    "# Indexar y ordenar\n",
    "df = df.set_index('timestamp')\n",
    "df = df.sort_index()\n",
    "\n",
    "# Show first values\n",
    "print(df.head())\n",
    "\n"
   ]
  },
  {
   "cell_type": "code",
   "execution_count": 7,
   "metadata": {},
   "outputs": [],
   "source": [
    "\n",
    "import pandas as pd\n",
    "\n",
    "# Function that converts string to datetime string (or ISO)\n",
    "def convert_time(example):\n",
    "    example['date_time'] = pd.to_datetime(example['date_time'])\n",
    "    return example\n",
    "\n",
    "# Aplicarlo\n"
   ]
  },
  {
   "cell_type": "code",
   "execution_count": 8,
   "metadata": {},
   "outputs": [
    {
     "data": {
      "text/plain": [
       "'date_time,article_text,year,target'"
      ]
     },
     "execution_count": 8,
     "metadata": {},
     "output_type": "execute_result"
    }
   ],
   "source": [
    "def get_prices(noticias, hist):\n",
    "    prices = []\n",
    "    for ts in noticias['date_time']:\n",
    "        ts_minus_1h = ts - pd.Timedelta(hours=1)\n",
    "        ts_plus_2h = ts + pd.Timedelta(hours=2)\n",
    "        \n",
    "        try:\n",
"            price_before = hist.loc[hist.index.asof(ts_minus_1h), 'price']\n",
"            price_after = hist.loc[hist.index.asof(ts_plus_2h), 'price']\n",
"\n",
"            change = price_after/price_before\n",
"        except KeyError:\n",
"            price_before = price_after = change = None\n",
    "            \n",
    "        precios.append(cambio)\n",
    "    \n",
    "    return precios\n",
    "from datasets import load_from_disk\n",
    "\n",
    "#probar si funciona el lematizado o no\n",
    "\"\"\"# Cargar el dataset desde el disco\n",
    "dataset = load_from_disk(\"mi_filtrado\")\n",
    "\n",
    "\n",
    "\n",
    "dataset = dataset.map(convert_time)\n",
    "\n",
    "resultados = get_prices(dataset, df)\n",
    "print(len(resultados))\"\"\"\n",
    "\n",
    "# Leer el CSV en un DataFrame de pandas\n",
    "df_dataset = pd.read_csv(\"data/btc_news_2020_2025.csv\")\n",
    "\n",
    "# Apply convert_time function row by row (if it's a per-row transformation)\n",
    "df_dataset = df_dataset.apply(convert_time, axis=1)\n",
    "\n",
    "# Assuming `df` is still another DataFrame and `get_prices` expects both\n",
    "resultados = get_prices(df_dataset, df)\n",
    "\n",
    "\"\"\"date_time,article_text,year,target\"\"\"\n"
   ]
  },
  {
   "cell_type": "code",
   "execution_count": 9,
   "metadata": {},
   "outputs": [
    {
     "name": "stdout",
     "output_type": "stream",
     "text": [
      "Primeros 3 valores de 'resultados':\n",
      "resultados[0] = 1.0070190466488 | tipo: <class 'numpy.float64'>\n",
      "resultados[1] = 1.0070190466488 | tipo: <class 'numpy.float64'>\n",
      "resultados[2] = 1.0034237605044847 | tipo: <class 'numpy.float64'>\n",
      "0.8737739506167942\n"
     ]
    }
   ],
   "source": [
    "# Verificar tipo de datos\n",
    "# Verificar tipo de los primeros 3 valores\n",
    "print(\"First 3 values of 'results':\")\n",
    "for i in range(3):\n",
    "    print(f\"resultados[{i}] =\", resultados[i], \"| tipo:\", type(resultados[i]))\n",
    "\n",
    "# Asegurar que todos los valores son float\n",
    "#resultados = [float(x) for x in resultados\n",
    "\n",
    "print(min(resultados))"
   ]
  },
  {
   "cell_type": "code",
   "execution_count": 12,
   "metadata": {},
   "outputs": [
    {
     "name": "stdout",
     "output_type": "stream",
     "text": [
      "Index(['date_time', 'article_text', 'year', 'target'], dtype='object')\n"
     ]
    }
   ],
   "source": [
    "# Agregar los resultados como una nueva columna\n",
    "df_dataset[\"target\"] = resultados\n",
    "#df_dataset = df_dataset.drop(columns=['date_time', 'year'])\n",
    "print(df_dataset.columns)\n",
    "\n",
    "# Guardar el nuevo CSV\n",
    "#df_dataset.to_csv(\"dataset_target.csv\", index=False)"
   ]
  },
  {
   "cell_type": "code",
   "execution_count": 11,
   "metadata": {},
   "outputs": [],
   "source": [
    "df_dataset.to_csv(\"dataset_target_ano_time.csv\", index=False)"
   ]
  },
  {
   "cell_type": "code",
   "execution_count": 5,
   "metadata": {},
   "outputs": [
    {
     "name": "stdout",
     "output_type": "stream",
     "text": [
      "1768 61\n"
     ]
    }
   ],
   "source": [
    "import pandas as pd\n",
    "df_dataset = pd.read_csv(\"noticias_filtradas_llm.csv\")\n",
    "positive = 0\n",
    "negative = 0\n",
    "for i in range(1829):\n",
    "    if df_dataset[\"target\"][i] > 1:\n",
    "        positive += 1\n",
    "    else:\n",
    "        negative += 1\n",
    "print(positive,negative)\n"
   ]
  }
 ],
 "metadata": {
  "kernelspec": {
   "display_name": "Python 3.10.5 64-bit",
   "language": "python",
   "name": "python3"
  },
  "language_info": {
   "codemirror_mode": {
    "name": "ipython",
    "version": 3
   },
   "file_extension": ".py",
   "mimetype": "text/x-python",
   "name": "python",
   "nbconvert_exporter": "python",
   "pygments_lexer": "ipython3",
   "version": "3.10.5"
  },
  "orig_nbformat": 4,
  "vscode": {
   "interpreter": {
    "hash": "7e1998ff7f8aa20ada591c520b972326324e5ea05489af9e422744c7c09f6dad"
   }
  }
 },
 "nbformat": 4,
 "nbformat_minor": 2
}
