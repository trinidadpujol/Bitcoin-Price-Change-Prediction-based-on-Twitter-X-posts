{
 "cells": [
  {
   "cell_type": "code",
   "execution_count": 2,
   "id": "42fc4edc",
   "metadata": {},
   "outputs": [],
   "source": [
    "import pandas as pd\n",
    "from datasets import load_dataset\n",
    "import matplotlib.pyplot as plt"
   ]
  },
  {
   "cell_type": "markdown",
   "id": "2fdd1322",
   "metadata": {},
   "source": [
    "Obtaining training data for the model"
   ]
  },
  {
   "cell_type": "code",
   "execution_count": 3,
   "id": "1de41ea1",
   "metadata": {},
   "outputs": [],
   "source": [
    "dataset = load_dataset(\"edaschau/bitcoin_news\")\n",
    "\n",
    "train_data = dataset['train']\n",
    "\n",
    "df = pd.DataFrame(train_data)\n",
    "\n",
    "df.to_csv('bitcoin_news_full.csv', index=False)"
   ]
  },
  {
   "cell_type": "markdown",
   "id": "98c9906f",
   "metadata": {},
   "source": [
    "We keep only the columns that interest us"
   ]
  },
  {
   "cell_type": "code",
   "execution_count": null,
   "id": "f937fa26",
   "metadata": {},
   "outputs": [],
   "source": [
    "\n",
    "df = pd.read_csv('bitcoin_news_full.csv')\n",
    "\n",
    "df_reducido = df[['date_time', 'article_text']]\n",
    "\n",
    "df_reducido.to_csv('btc_news_dataset.csv', index=False)"
   ]
  },
  {
   "cell_type": "markdown",
   "id": "fb535384",
   "metadata": {},
   "source": [
    "We observe the temporal distribution of news in the dataset"
   ]
  },
  {
   "cell_type": "code",
   "execution_count": null,
   "id": "fb69aa77",
   "metadata": {},
   "outputs": [
    {
     "name": "stdout",
     "output_type": "stream",
     "text": [
      "El dataset tiene 210832 noticias.\n"
     ]
    },
    {
     "data": {
      "image/png": "[encoded data removed]",
      "text/plain": [
       "<Figure size 640x480 with 1 Axes>"
      ]
     },
     "metadata": {},
     "output_type": "display_data"
    }
   ],
   "source": [
    "df = pd.read_csv('btc_news_dataset.csv')  \n",
    "\n",
    "num_filas = len(df)\n",
    "print(f'El dataset tiene {num_filas} noticias.')\n",
    "\n",
    "df['date_time'] = pd.to_datetime(df['date_time'], errors='coerce')\n",
    "\n",
    "df['year'] = df['date_time'].dt.year\n",
    "\n",
    "noticias_por_año = df['year'].value_counts().sort_index()\n",
    "\n",
    "plt.bar(noticias_por_año.index, noticias_por_año.values)\n",
    "plt.xlabel('Year')\n",
    "plt.ylabel('Number of news per year')\n",
    "plt.title('Quantity of news per year')\n",
    "plt.show()"
   ]
  },
  {
   "cell_type": "code",
   "execution_count": 6,
   "id": "725bcdc4",
   "metadata": {},
   "outputs": [
    {
     "name": "stdout",
     "output_type": "stream",
     "text": [
      "La fecha de la última noticia en el dataset es: 2025-06-04 14:01:05+00:00\n",
      "Año: 2011.0 - Noticias: 3\n",
      "Año: 2012.0 - Noticias: 20\n",
      "Año: 2013.0 - Noticias: 1318\n",
      "Año: 2014.0 - Noticias: 2727\n",
      "Año: 2015.0 - Noticias: 1615\n",
      "Año: 2016.0 - Noticias: 1294\n",
      "Año: 2017.0 - Noticias: 7932\n",
      "Año: 2018.0 - Noticias: 23916\n",
      "Año: 2019.0 - Noticias: 21549\n",
      "Año: 2020.0 - Noticias: 13141\n",
      "Año: 2021.0 - Noticias: 43812\n",
      "Año: 2022.0 - Noticias: 43776\n",
      "Año: 2023.0 - Noticias: 24220\n",
      "Año: 2024.0 - Noticias: 17223\n",
      "Año: 2025.0 - Noticias: 8283\n"
     ]
    }
   ],
   "source": [
    "df = pd.read_csv('btc_news_dataset.csv') \n",
    "\n",
    "ultima_fecha = df['date_time'].max()\n",
    "\n",
    "print(f'La fecha de la última noticia en el dataset es: {ultima_fecha}')\n",
    "\n",
    "# Imprimir cada año y su cantidad de noticias\n",
    "for año, cantidad in noticias_por_año.items():\n",
    "    print(f'Año: {año} - Noticias: {cantidad}')"
   ]
  },
  {
   "cell_type": "markdown",
   "id": "e7520995",
   "metadata": {},
   "source": [
    "We filter news from 2020 to 2025"
   ]
  },
  {
   "cell_type": "code",
   "execution_count": null,
   "id": "c8978837",
   "metadata": {},
   "outputs": [
    {
     "name": "stdout",
     "output_type": "stream",
     "text": [
      "Se filtraron 150455 noticias de los años 2020 a 2025.\n"
     ]
    }
   ],
   "source": [
    "df = pd.read_csv('btc_news_dataset.csv') \n",
    "\n",
    "df['date_time'] = pd.to_datetime(df['date_time'], errors='coerce')\n",
    "\n",
    "df['year'] = df['date_time'].dt.year\n",
    "\n",
    "df_filtrado = df[(df['year'] >= 2020) & (df['year'] <= 2025)]\n",
    "\n",
    "df_filtrado.to_csv('btc_news_2020_2025.csv', index=False)\n",
    "\n",
    "print(f\"Se filtraron {len(df_filtrado)} noticias de los años 2020 a 2025.\")"
   ]
  },
  {
   "cell_type": "code",
   "execution_count": 9,
   "id": "d186721c",
   "metadata": {},
   "outputs": [
    {
     "name": "stdout",
     "output_type": "stream",
     "text": [
      "La fecha de la última noticia en el dataset filtrado es: 2025-06-04 14:01:05+00:00\n"
     ]
    }
   ],
   "source": [
    "# la última fecha del dataset filtrado\n",
    "ultima_fecha_filtrado = df_filtrado['date_time'].max()\n",
    "\n",
    "print(f'La fecha de la última noticia en el dataset filtrado es: {ultima_fecha_filtrado}')"
   ]
  }
 ],
 "metadata": {
  "kernelspec": {
   "display_name": "myenv",
   "language": "python",
   "name": "python3"
  },
  "language_info": {
   "codemirror_mode": {
    "name": "ipython",
    "version": 3
   },
   "file_extension": ".py",
   "mimetype": "text/x-python",
   "name": "python",
   "nbconvert_exporter": "python",
   "pygments_lexer": "ipython3",
   "version": "3.11.4"
  }
 },
 "nbformat": 4,
 "nbformat_minor": 5
}
